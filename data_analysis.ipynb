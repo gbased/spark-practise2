{
 "cells": [
  {
   "metadata": {},
   "cell_type": "code",
   "outputs": [],
   "execution_count": null,
   "source": [
    "import pyspark\n",
    "from pyspark.sql import SparkSession\n",
    "from pyspark.sql.functions import *"
   ],
   "id": "11243d591249b11e"
  },
  {
   "metadata": {},
   "cell_type": "markdown",
   "source": "Reading file",
   "id": "1716ce7e57c20525"
  },
  {
   "metadata": {},
   "cell_type": "code",
   "outputs": [],
   "execution_count": null,
   "source": [
    "spark = SparkSession.builder.appName(\"Spark Data Analysis\").getOrCreate()\n",
    "logs_df = spark.read.csv(\"web_server_logs.csv\", header=True, inferSchema=True)"
   ],
   "id": "1bee3bd9a5cadee2"
  },
  {
   "metadata": {},
   "cell_type": "markdown",
   "source": "",
   "id": "3dc70b5cdf1167e3"
  },
  {
   "metadata": {},
   "cell_type": "markdown",
   "source": "Checking schema of the table:",
   "id": "edfa7fc0f0f0066d"
  },
  {
   "metadata": {
    "ExecuteTime": {
     "end_time": "2024-09-09T17:32:58.332422Z",
     "start_time": "2024-09-09T17:32:57.992411Z"
    }
   },
   "cell_type": "code",
   "source": [
    "logs_df.show(1)\n",
    "logs_df.printSchema()"
   ],
   "id": "9dbaaa3ec0617d9a",
   "outputs": [
    {
     "name": "stdout",
     "output_type": "stream",
     "text": [
      "+-------------+-------------------+------+--------+-------------+-------------+\n",
      "|           ip|          timestamp|method|     url|response_code|response_size|\n",
      "+-------------+-------------------+------+--------+-------------+-------------+\n",
      "|59.120.253.50|2024-04-01 23:02:08|DELETE|category|          500|         3224|\n",
      "+-------------+-------------------+------+--------+-------------+-------------+\n",
      "only showing top 1 row\n",
      "\n",
      "root\n",
      " |-- ip: string (nullable = true)\n",
      " |-- timestamp: timestamp (nullable = true)\n",
      " |-- method: string (nullable = true)\n",
      " |-- url: string (nullable = true)\n",
      " |-- response_code: integer (nullable = true)\n",
      " |-- response_size: integer (nullable = true)\n",
      "\n"
     ]
    }
   ],
   "execution_count": 26
  },
  {
   "metadata": {},
   "cell_type": "markdown",
   "source": "Top 10 active IP addresses:",
   "id": "2461153637bf98c8"
  },
  {
   "metadata": {
    "ExecuteTime": {
     "end_time": "2024-09-09T18:32:50.511102Z",
     "start_time": "2024-09-09T18:32:49.230504Z"
    }
   },
   "cell_type": "code",
   "source": [
    "active_ip_df = (logs_df.groupBy(col(\"ip\"))\n",
    "                .agg(count(\"ip\").alias(\"request_count\"))\n",
    "                .orderBy(col(\"request_count\").desc()).limit(10))\n",
    "active_ip_df.show()"
   ],
   "id": "992151a74ed898b",
   "outputs": [
    {
     "name": "stdout",
     "output_type": "stream",
     "text": [
      "+---------------+-------------+\n",
      "|             ip|request_count|\n",
      "+---------------+-------------+\n",
      "|214.118.224.200|            2|\n",
      "| 179.212.53.235|            1|\n",
      "|   146.33.77.45|            1|\n",
      "| 56.167.163.123|            1|\n",
      "|152.203.115.177|            1|\n",
      "| 30.190.251.242|            1|\n",
      "|208.144.202.211|            1|\n",
      "|  149.39.84.148|            1|\n",
      "|  166.186.6.249|            1|\n",
      "|   86.74.92.200|            1|\n",
      "|  202.78.244.99|            1|\n",
      "|  140.255.154.3|            1|\n",
      "|   16.89.96.163|            1|\n",
      "|   74.75.97.164|            1|\n",
      "|    53.202.64.6|            1|\n",
      "|   17.26.250.59|            1|\n",
      "|  88.197.64.155|            1|\n",
      "|  64.154.183.70|            1|\n",
      "|    90.3.250.99|            1|\n",
      "|   188.6.194.24|            1|\n",
      "+---------------+-------------+\n",
      "only showing top 20 rows\n",
      "\n"
     ]
    }
   ],
   "execution_count": 63
  },
  {
   "metadata": {},
   "cell_type": "markdown",
   "source": "Request count by HTTP method:",
   "id": "3c6faf21365d4964"
  },
  {
   "metadata": {
    "ExecuteTime": {
     "end_time": "2024-09-09T18:32:54.522196Z",
     "start_time": "2024-09-09T18:32:53.939991Z"
    }
   },
   "cell_type": "code",
   "source": [
    "http_count_df = (logs_df.groupBy(\"method\")\n",
    "                 .agg(count(\"method\").alias(\"method_count\"))\n",
    "                 .orderBy(col(\"method_count\").desc()))\n",
    "http_count_df.show()"
   ],
   "id": "af314604025b911a",
   "outputs": [
    {
     "name": "stdout",
     "output_type": "stream",
     "text": [
      "+------+------------+\n",
      "|method|method_count|\n",
      "+------+------------+\n",
      "|  POST|       25176|\n",
      "|DELETE|       25052|\n",
      "|   GET|       24986|\n",
      "|   PUT|       24786|\n",
      "+------+------------+\n",
      "\n"
     ]
    }
   ],
   "execution_count": 64
  },
  {
   "metadata": {},
   "cell_type": "markdown",
   "source": "Number of 404 response codes:",
   "id": "8d805611dafd5f8e"
  },
  {
   "metadata": {
    "ExecuteTime": {
     "end_time": "2024-09-09T18:31:22.846338Z",
     "start_time": "2024-09-09T18:31:22.389670Z"
    }
   },
   "cell_type": "code",
   "source": [
    "error_code_df = (logs_df.filter(col(\"response_code\") == 404)\n",
    "                 .agg(count(\"response_code\").alias(\"404_count\")))\n",
    "print(f\"Number of 404 responses: {error_code_df.collect()[0][0]}\")\n"
   ],
   "id": "7808402eab3e1b17",
   "outputs": [
    {
     "name": "stdout",
     "output_type": "stream",
     "text": [
      "Number of 404 responses: 24850\n"
     ]
    }
   ],
   "execution_count": 61
  },
  {
   "metadata": {},
   "cell_type": "markdown",
   "source": "Total response size by day:",
   "id": "4627c1b4030c8c55"
  },
  {
   "cell_type": "code",
   "id": "805f8f0da1575c7c",
   "metadata": {
    "ExecuteTime": {
     "end_time": "2024-09-09T18:26:15.818199Z",
     "start_time": "2024-09-09T18:26:14.526314Z"
    }
   },
   "source": [
    "response_size_df = (logs_df.withColumn(\"timestamp\", to_date(col(\"timestamp\")))\n",
    "                    .groupBy(\"timestamp\")\n",
    "                    .agg(sum(\"response_size\").alias(\"response_size_count\"))\n",
    "                    .orderBy(\"timestamp\"))\n",
    "response_size_df.show()"
   ],
   "outputs": [
    {
     "name": "stdout",
     "output_type": "stream",
     "text": [
      "+----------+-----------------------------------------+\n",
      "| timestamp|sum(response_size AS response_size_count)|\n",
      "+----------+-----------------------------------------+\n",
      "|2024-01-01|                                  2052392|\n",
      "|2024-01-02|                                  2108796|\n",
      "|2024-01-03|                                  2186464|\n",
      "|2024-01-04|                                  1970542|\n",
      "|2024-01-05|                                  1852021|\n",
      "|2024-01-06|                                  1933700|\n",
      "|2024-01-07|                                  2150467|\n",
      "|2024-01-08|                                  2058076|\n",
      "|2024-01-09|                                  2302898|\n",
      "|2024-01-10|                                  2062825|\n",
      "|2024-01-11|                                  2082929|\n",
      "|2024-01-12|                                  2000169|\n",
      "|2024-01-13|                                  2241225|\n",
      "|2024-01-14|                                  1892717|\n",
      "|2024-01-15|                                  1865733|\n",
      "|2024-01-16|                                  1857629|\n",
      "|2024-01-17|                                  1970937|\n",
      "|2024-01-18|                                  2044054|\n",
      "|2024-01-19|                                  1831953|\n",
      "|2024-01-20|                                  1939499|\n",
      "+----------+-----------------------------------------+\n",
      "only showing top 20 rows\n",
      "\n"
     ]
    }
   ],
   "execution_count": 60
  },
  {
   "metadata": {},
   "cell_type": "code",
   "outputs": [],
   "execution_count": null,
   "source": "",
   "id": "77d93ecb3db4f019"
  }
 ],
 "metadata": {
  "kernelspec": {
   "display_name": "Python 3 (ipykernel)",
   "language": "python",
   "name": "python3"
  },
  "language_info": {
   "codemirror_mode": {
    "name": "ipython",
    "version": 3
   },
   "file_extension": ".py",
   "mimetype": "text/x-python",
   "name": "python",
   "nbconvert_exporter": "python",
   "pygments_lexer": "ipython3",
   "version": "3.12.4"
  }
 },
 "nbformat": 4,
 "nbformat_minor": 5
}
